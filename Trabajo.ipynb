{
 "cells": [
  {
   "cell_type": "code",
   "execution_count": null,
   "id": "e215721d",
   "metadata": {},
   "outputs": [],
   "source": [
    "import pandas as pd\n",
    "import numpy as np\n",
    "import  matplotlib.pyplot as plt\n",
    "import ipywidgets as widgets\n",
    "import math\n",
    "\n",
    "from mpl_toolkits.mplot3d import Axes3D\n",
    "from scipy.stats import poisson\n",
    "\n",
    "import scipy.optimize\n",
    "from sklearn import metrics, model_selection\n",
    "from sklearn.model_selection import train_test_split"
   ]
  },
  {
   "cell_type": "markdown",
   "id": "aaa15de7",
   "metadata": {},
   "source": [
    "#  ¿Es posible explicar la cantidad de billonarios en base al desarrollo país?  <a class=\"tocSkip\"></a>"
   ]
  },
  {
   "cell_type": "code",
   "execution_count": null,
   "id": "2c3fbbc0",
   "metadata": {},
   "outputs": [],
   "source": [
    "df = pd.read_csv('billonarios.csv', index_col=\"pais\")\n",
    "df.head()"
   ]
  },
  {
   "cell_type": "markdown",
   "id": "0d642f14",
   "metadata": {},
   "source": [
    "## Modelo "
   ]
  },
  {
   "cell_type": "markdown",
   "id": "294d807d",
   "metadata": {},
   "source": [
    "1. Estudie y describa la distribución de Poisson en detalle. Muestre como varía la distribución en función de su parámetro $\\lambda$, ¿Qué ocurre cuando $\\lambda$ es pequeño? ¿Y cuando es grande?"
   ]
  },
  {
   "cell_type": "markdown",
   "id": "e33c377a",
   "metadata": {},
   "source": [
    "###### La distribución de Poisson es una de las más importantes distribuciones de variable discreta. Sus principales aplicaciones se encuentra en la modelización de situaciones en las que nos interesa determinar el número de hechos  en un intervalo de tiempo, bajo supuestos de aleatoriedad y ciertas circunstancias restrictivas."
   ]
  },
  {
   "cell_type": "code",
   "execution_count": null,
   "id": "ae26e7a2",
   "metadata": {},
   "outputs": [],
   "source": [
    "@widgets.interact(lam=(0, 100 , 2))\n",
    "\n",
    "def print_cosas(lam=0.5,):\n",
    "    p = np.random.poisson(lam, 1000)\n",
    "    fig, ax = plt.subplots(figsize=(12,5), tight_layout=True)\n",
    "    ax.grid(color=\"red\", which=\"major\", axis='both', linestyle=':', linewidth=0.5)\n",
    "    ax.set_title('Distribución en función de lambda = {}'.format(lam))\n",
    "    ax.hist(p, bins=20);"
   ]
  },
  {
   "cell_type": "markdown",
   "id": "5096d2c9",
   "metadata": {},
   "source": [
    "cuando lambda toma valores pequeños, podemos ver en la gráfica que se encuentra los datos cargados hacia la izquierda, y el gráfico nos muestra una distribución de poisson, por el contrario cuando  lambda toma valores más grandes los datos siguen  una distribución Gaussiana, esto se debe al teorema central del límite."
   ]
  },
  {
   "cell_type": "markdown",
   "id": "be977ae1",
   "metadata": {},
   "source": [
    " 2. Reemplace las expresiones y obtenga una expresión analítica para el logaritmo de la verosimilitud: $\\log \\mathcal{L}(\\theta)$. Muestre la ecuación obtenida. HINT: Puede ignorar los términos que no dependan de $\\theta$. Luego obtenga una expresión analítica para la primera derivada del logaritmo de la verosimilitud. Muestra la ecuación obtenida"
   ]
  },
  {
   "cell_type": "markdown",
   "id": "4c98452f",
   "metadata": {},
   "source": [
    "<img src=\"Img/todo.jpg\">"
   ]
  },
  {
   "cell_type": "code",
   "execution_count": null,
   "id": "bea721b7",
   "metadata": {},
   "outputs": [],
   "source": [
    "y = df[\"nbillonarios\"].values\n",
    "X = df.drop(columns=[\"nbillonarios\"]).values\n",
    "\n",
    "X = (X - np.mean(X, axis=0))/np.std(X, axis=0)"
   ]
  },
  {
   "cell_type": "markdown",
   "id": "b9ba2c79",
   "metadata": {},
   "source": [
    "## Implementación "
   ]
  },
  {
   "cell_type": "markdown",
   "id": "061b617c",
   "metadata": {},
   "source": [
    "1. Implemente el logaritmo de la verosimilitud y su derivada usando `numpy`. Utilice operaciones vectoriales )"
   ]
  },
  {
   "cell_type": "code",
   "execution_count": null,
   "id": "220cdc83",
   "metadata": {},
   "outputs": [],
   "source": [
    "def intensidad(thetha,X):\n",
    "    f = theta[0] + np.sum(theta[1:]*X, axis=1)\n",
    "    return np.exp(f)\n",
    "\n",
    "\n",
    "def verosimilitud(thetha, *args):\n",
    "    X, y = args\n",
    "    lam = intensidad(theta, X)\n",
    "    return -(np.sum(y*lam - np.exp(-lam)) - np.sum(factorial(y)))\n",
    "\n",
    "def factorial(y):\n",
    "    retorno = []\n",
    "    for i in y:\n",
    "        retorno.append(math.log((np.math.factorial(i)),math.exp(1)))\n",
    "    return retorno\n",
    "\n",
    "def derVerosimilitud(theta, *args):\n",
    "    X, y = args\n",
    "    lam = intensidad(theta, X)\n",
    "    Z = np.concatenate((np.ones(shape=(len(y),1)), X), axis = 1)\n",
    "    e = y - lam\n",
    "    return -np.sum(e[:, np.newaxis]*Z, axis=0)"
   ]
  },
  {
   "cell_type": "markdown",
   "id": "d21c58a6",
   "metadata": {},
   "source": [
    "2. Implemente una rutina que encuentre el vecot de paraemtros óptimo en base a `scipy.optimize.minimize` "
   ]
  },
  {
   "cell_type": "code",
   "execution_count": null,
   "id": "1c0130c5",
   "metadata": {
    "scrolled": false
   },
   "outputs": [],
   "source": [
    "theta = np.random.randn(1+X.shape[1])\n",
    "\n",
    "res = scipy.optimize.minimize(fun = verosimilitud, x0 = theta, method = 'BFGS', jac = derVerosimilitud,\n",
    "                              args = (X,y), tol=1e-1)\n",
    "print(res)"
   ]
  },
  {
   "cell_type": "code",
   "execution_count": null,
   "id": "83633a3b",
   "metadata": {},
   "outputs": [],
   "source": [
    "def RCuadrado(theta, X, y, th_0):\n",
    "    Ver_th_0 = -(np.sum(y*th_0 - np.exp(th_0)) - np.sum(factorial(y)))\n",
    "    Ver_theta = verosimilitud(theta, X, y)\n",
    "    return (Ver_th_0 - Ver_theta)/Ver_th_0"
   ]
  },
  {
   "cell_type": "code",
   "execution_count": null,
   "id": "ef7b6381",
   "metadata": {},
   "outputs": [],
   "source": [
    "r2 = RCuadrado(res.x, X, y, theta[0])\n",
    "print(\"r2 = \", r2)\n",
    "\n",
    "print(res.x)"
   ]
  },
  {
   "cell_type": "code",
   "execution_count": null,
   "id": "a821c0ac",
   "metadata": {},
   "outputs": [],
   "source": []
  },
  {
   "cell_type": "code",
   "execution_count": null,
   "id": "8e7a217f",
   "metadata": {},
   "outputs": [],
   "source": []
  },
  {
   "cell_type": "code",
   "execution_count": null,
   "id": "c83d8742",
   "metadata": {},
   "outputs": [],
   "source": []
  },
  {
   "cell_type": "code",
   "execution_count": null,
   "id": "d6cbac93",
   "metadata": {},
   "outputs": [],
   "source": []
  },
  {
   "cell_type": "code",
   "execution_count": null,
   "id": "fd64cfe2",
   "metadata": {},
   "outputs": [],
   "source": []
  },
  {
   "cell_type": "code",
   "execution_count": null,
   "id": "66eeb538",
   "metadata": {},
   "outputs": [],
   "source": []
  },
  {
   "cell_type": "code",
   "execution_count": null,
   "id": "b2f4b1d0",
   "metadata": {},
   "outputs": [],
   "source": []
  },
  {
   "cell_type": "code",
   "execution_count": null,
   "id": "df361ab5",
   "metadata": {},
   "outputs": [],
   "source": []
  },
  {
   "cell_type": "code",
   "execution_count": null,
   "id": "7c913866",
   "metadata": {},
   "outputs": [],
   "source": []
  }
 ],
 "metadata": {
  "kernelspec": {
   "display_name": "Python 3",
   "language": "python",
   "name": "python3"
  },
  "language_info": {
   "codemirror_mode": {
    "name": "ipython",
    "version": 3
   },
   "file_extension": ".py",
   "mimetype": "text/x-python",
   "name": "python",
   "nbconvert_exporter": "python",
   "pygments_lexer": "ipython3",
   "version": "3.9.4"
  }
 },
 "nbformat": 4,
 "nbformat_minor": 5
}
